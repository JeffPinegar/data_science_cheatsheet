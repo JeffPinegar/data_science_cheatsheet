{
 "cells": [
  {
   "cell_type": "markdown",
   "metadata": {},
   "source": [
    "# This Notebook is my cheatsheet for Using Pandas"
   ]
  },
  {
   "cell_type": "markdown",
   "metadata": {},
   "source": [
    "### Importing pandas into your project"
   ]
  },
  {
   "cell_type": "code",
   "execution_count": 268,
   "metadata": {},
   "outputs": [],
   "source": [
    "# %matplotlib ipympl\n",
    "%matplotlib inline\n",
    "# \n",
    "# you must import Pandas\n",
    "# inporting them as pd will save you typing pandas over and over again.\n",
    "import pandas as pd     # if you get an error message module not found you need to add this to your environment.\n",
    "import os               # this tells your project about the OS of your machine.  This will let you create machine independent notebooks\n",
    "import numpy as np      # loads in the math tools\n",
    "import scipy.stats as st\n",
    "from scipy.stats import linregress\n",
    "from sklearn import datasets\n",
    "from scipy.stats import sem\n",
    "\n",
    "# For plotting we add addtional dependencies\n",
    "import matplotlib as plt\n",
    "import matplotlib.pyplot as plt\n",
    "import matplotlib.colors as mcolors\n",
    "import seaborn as sns\n",
    "\n"
   ]
  },
  {
   "cell_type": "markdown",
   "metadata": {},
   "source": [
    "### Working with Jupyter Notebooks not VSCode\n",
    "This code will change the width"
   ]
  },
  {
   "cell_type": "code",
   "execution_count": 269,
   "metadata": {},
   "outputs": [],
   "source": [
    "# change the width of a jupyter notebook in a browser \n",
    "# Remove the Comments from the two line below\n",
    "# from IPython.display import display, HTML\n",
    "# display(HTML(\"<style>.container { width:100% !important; }</style>\"))"
   ]
  },
  {
   "cell_type": "markdown",
   "metadata": {},
   "source": [
    "### Checking your environment"
   ]
  },
  {
   "cell_type": "code",
   "execution_count": 270,
   "metadata": {},
   "outputs": [
    {
     "data": {
      "text/plain": [
       "'1.4.2'"
      ]
     },
     "execution_count": 270,
     "metadata": {},
     "output_type": "execute_result"
    }
   ],
   "source": [
    "pd.__version__          #check the version.\n",
    "#pd.show_versions()      #this will show the version of installed packages such as panda, and its dependencies."
   ]
  },
  {
   "cell_type": "markdown",
   "metadata": {},
   "source": [
    "# Read in Data files"
   ]
  },
  {
   "cell_type": "code",
   "execution_count": 271,
   "metadata": {},
   "outputs": [
    {
     "data": {
      "text/plain": [
       "count    3529.000000\n",
       "mean       57.655143\n",
       "std         5.686822\n",
       "min        40.000000\n",
       "25%        54.000000\n",
       "50%        57.000000\n",
       "75%        60.000000\n",
       "max        81.000000\n",
       "Name: Temp (F), dtype: float64"
      ]
     },
     "execution_count": 271,
     "metadata": {},
     "output_type": "execute_result"
    }
   ],
   "source": [
    "# Read in the LAX temperature data\n",
    "temperature_df = pd.read_csv('./Resources/lax_temperature.csv')\n",
    "temperatures = temperature_df['Temp (F)']\n",
    "temperatures.describe()"
   ]
  },
  {
   "cell_type": "code",
   "execution_count": 272,
   "metadata": {},
   "outputs": [
    {
     "name": "stdout",
     "output_type": "stream",
     "text": [
      "Mean = 57.7  Median =  57.0  Mode = ModeResult(mode=array([57], dtype=int64), count=array([327]))\n",
      "Mean = 57.65514310002834,  Median =  57,  Mode = 57\n"
     ]
    }
   ],
   "source": [
    "# Demonstrate calculating measures of central tendency using numpy\n",
    "mean_numpy = round(np.mean(temperatures),1)\n",
    "median_numpy = round(np.median(temperatures),1)\n",
    "mode_scipy = st.mode(temperatures)\n",
    "print(f\"Mean = {mean_numpy}  Median =  {median_numpy}  Mode = {mode_scipy}\")\n",
    "\n",
    "# Demonstrate calculating measures of central tendency using pandas\n",
    "mean = temperature_df['Temp (F)'].mean()\n",
    "median = temperature_df['Temp (F)'].mode()\n",
    "mode = temperature_df['Temp (F)'].mode()\n",
    "print(f\"Mean = {mean},  Median =  {median[0]},  Mode = {mode[0]}\")"
   ]
  },
  {
   "cell_type": "code",
   "execution_count": 273,
   "metadata": {},
   "outputs": [
    {
     "data": {
      "text/html": [
       "<div>\n",
       "<style scoped>\n",
       "    .dataframe tbody tr th:only-of-type {\n",
       "        vertical-align: middle;\n",
       "    }\n",
       "\n",
       "    .dataframe tbody tr th {\n",
       "        vertical-align: top;\n",
       "    }\n",
       "\n",
       "    .dataframe thead th {\n",
       "        text-align: right;\n",
       "    }\n",
       "</style>\n",
       "<table border=\"1\" class=\"dataframe\">\n",
       "  <thead>\n",
       "    <tr style=\"text-align: right;\">\n",
       "      <th></th>\n",
       "      <th>STATION</th>\n",
       "      <th>DATE</th>\n",
       "      <th>REPORT_TYPE</th>\n",
       "      <th>Temp (F)</th>\n",
       "    </tr>\n",
       "  </thead>\n",
       "  <tbody>\n",
       "    <tr>\n",
       "      <th>0</th>\n",
       "      <td>72295023174</td>\n",
       "      <td>2019-01-01T00:49:00</td>\n",
       "      <td>FM-16</td>\n",
       "      <td>52</td>\n",
       "    </tr>\n",
       "    <tr>\n",
       "      <th>1</th>\n",
       "      <td>72295023174</td>\n",
       "      <td>2019-01-01T00:53:00</td>\n",
       "      <td>FM-15</td>\n",
       "      <td>51</td>\n",
       "    </tr>\n",
       "    <tr>\n",
       "      <th>2</th>\n",
       "      <td>72295023174</td>\n",
       "      <td>2019-01-01T01:53:00</td>\n",
       "      <td>FM-15</td>\n",
       "      <td>52</td>\n",
       "    </tr>\n",
       "    <tr>\n",
       "      <th>3</th>\n",
       "      <td>72295023174</td>\n",
       "      <td>2019-01-01T02:53:00</td>\n",
       "      <td>FM-15</td>\n",
       "      <td>49</td>\n",
       "    </tr>\n",
       "    <tr>\n",
       "      <th>4</th>\n",
       "      <td>72295023174</td>\n",
       "      <td>2019-01-01T03:53:00</td>\n",
       "      <td>FM-15</td>\n",
       "      <td>43</td>\n",
       "    </tr>\n",
       "  </tbody>\n",
       "</table>\n",
       "</div>"
      ],
      "text/plain": [
       "       STATION                 DATE REPORT_TYPE  Temp (F)\n",
       "0  72295023174  2019-01-01T00:49:00       FM-16        52\n",
       "1  72295023174  2019-01-01T00:53:00       FM-15        51\n",
       "2  72295023174  2019-01-01T01:53:00       FM-15        52\n",
       "3  72295023174  2019-01-01T02:53:00       FM-15        49\n",
       "4  72295023174  2019-01-01T03:53:00       FM-15        43"
      ]
     },
     "execution_count": 273,
     "metadata": {},
     "output_type": "execute_result"
    }
   ],
   "source": [
    "temperature_df.head()"
   ]
  },
  {
   "cell_type": "code",
   "execution_count": 274,
   "metadata": {},
   "outputs": [
    {
     "data": {
      "image/png": "[encoded data removed]",
      "text/plain": [
       "<Figure size 432x288 with 1 Axes>"
      ]
     },
     "metadata": {
      "needs_background": "light"
     },
     "output_type": "display_data"
    }
   ],
   "source": [
    "# Characterize the data set using matplotlib and stats.normaltest\n",
    "plt.hist(temperatures)                  # create a histogram letting Matplotlib set the bins\n",
    "plt.xlabel('Temperature (°F)')          #x axis label\n",
    "plt.ylabel('Counts')                    #y asis label\n",
    "plt.show()  "
   ]
  },
  {
   "cell_type": "markdown",
   "metadata": {},
   "source": [
    "### Test data set for Normality"
   ]
  },
  {
   "cell_type": "code",
   "execution_count": 275,
   "metadata": {},
   "outputs": [
    {
     "name": "stdout",
     "output_type": "stream",
     "text": [
      "NormaltestResult(statistic=202.53753937770182, pvalue=1.0460010849581777e-44)\n",
      "NormaltestResult(statistic=9.663983959719285, pvalue=0.007970628111122596)\n"
     ]
    }
   ],
   "source": [
    "# Run the normality test on the whole temperatures DataFrame.\n",
    "sample = temperatures.sample(100)\n",
    "print(st.normaltest(temperatures.sample(3529)))             # test with whole data set\n",
    "print(st.normaltest(temperatures.sample(50)))               # test with a random sample of 50.   Test whether a sample differs from a normal, Large value means it is different from normal\n",
    "                                                            # Renturns s^2 + k^2, where s is the z-score returned by skewtest and k is the z-score returned by kurtosistest.\n"
   ]
  },
  {
   "cell_type": "code",
   "execution_count": 276,
   "metadata": {},
   "outputs": [
    {
     "name": "stdout",
     "output_type": "stream",
     "text": [
      "Variance = 32.33994023603594  Stdev =  5.686821628646 \n",
      "Roughly 68% of the data is between 52.013 and 63.387 degrees F\n",
      "Roughly 95% of the data is between 46.326 and 69.074 degrees F\n",
      "Roughly 99.7% of the data is between 40.64 and 74.76 degrees F\n"
     ]
    }
   ],
   "source": [
    "# Demonstrate calculating the variance and standard deviation using the different modules\n",
    "var_numpy = np.var(temperatures,ddof = 1)           # ddof = degrees of freedom where  0 = population and 1 = sample\n",
    "sd_numpy = np.std(temperatures,ddof = 1)            # ddof = degrees of freedom where  0 = population and 1 = sample\n",
    "print(f\"Variance = {var_numpy}  Stdev =  {sd_numpy} \")\n",
    "\n",
    "# Calculate the 68%-95%-99.7% rule using the standard deviation\n",
    "print(f\"Roughly 68% of the data is between {round(mean_numpy-sd_numpy,3)} and {round(mean_numpy+sd_numpy,3)} degrees F\")          #mean +/- 1 standard Deviation\n",
    "print(f\"Roughly 95% of the data is between {round(mean_numpy-2*sd_numpy,3)} and {round(mean_numpy+2*sd_numpy,3)} degrees F\")      #mean +/- 2 standard Deviation\n",
    "print(f\"Roughly 99.7% of the data is between {round(mean_numpy-3*sd_numpy,3)} and {round(mean_numpy+3*sd_numpy,3)} degrees F\")    #mean +/- 3 standard Deviation"
   ]
  },
  {
   "cell_type": "markdown",
   "metadata": {},
   "source": [
    "## Creating Normalize data using z-score"
   ]
  },
  {
   "cell_type": "code",
   "execution_count": 277,
   "metadata": {},
   "outputs": [
    {
     "data": {
      "text/html": [
       "<div>\n",
       "<style scoped>\n",
       "    .dataframe tbody tr th:only-of-type {\n",
       "        vertical-align: middle;\n",
       "    }\n",
       "\n",
       "    .dataframe tbody tr th {\n",
       "        vertical-align: top;\n",
       "    }\n",
       "\n",
       "    .dataframe thead th {\n",
       "        text-align: right;\n",
       "    }\n",
       "</style>\n",
       "<table border=\"1\" class=\"dataframe\">\n",
       "  <thead>\n",
       "    <tr style=\"text-align: right;\">\n",
       "      <th></th>\n",
       "      <th>STATION</th>\n",
       "      <th>DATE</th>\n",
       "      <th>REPORT_TYPE</th>\n",
       "      <th>Temp (F)</th>\n",
       "      <th>Temp Z-Score</th>\n",
       "    </tr>\n",
       "  </thead>\n",
       "  <tbody>\n",
       "    <tr>\n",
       "      <th>0</th>\n",
       "      <td>72295023174</td>\n",
       "      <td>2019-01-01T00:49:00</td>\n",
       "      <td>FM-16</td>\n",
       "      <td>52</td>\n",
       "      <td>-0.994570</td>\n",
       "    </tr>\n",
       "    <tr>\n",
       "      <th>1</th>\n",
       "      <td>72295023174</td>\n",
       "      <td>2019-01-01T00:53:00</td>\n",
       "      <td>FM-15</td>\n",
       "      <td>51</td>\n",
       "      <td>-1.170440</td>\n",
       "    </tr>\n",
       "    <tr>\n",
       "      <th>2</th>\n",
       "      <td>72295023174</td>\n",
       "      <td>2019-01-01T01:53:00</td>\n",
       "      <td>FM-15</td>\n",
       "      <td>52</td>\n",
       "      <td>-0.994570</td>\n",
       "    </tr>\n",
       "    <tr>\n",
       "      <th>3</th>\n",
       "      <td>72295023174</td>\n",
       "      <td>2019-01-01T02:53:00</td>\n",
       "      <td>FM-15</td>\n",
       "      <td>49</td>\n",
       "      <td>-1.522181</td>\n",
       "    </tr>\n",
       "    <tr>\n",
       "      <th>4</th>\n",
       "      <td>72295023174</td>\n",
       "      <td>2019-01-01T03:53:00</td>\n",
       "      <td>FM-15</td>\n",
       "      <td>43</td>\n",
       "      <td>-2.577401</td>\n",
       "    </tr>\n",
       "  </tbody>\n",
       "</table>\n",
       "</div>"
      ],
      "text/plain": [
       "       STATION                 DATE REPORT_TYPE  Temp (F)  Temp Z-Score\n",
       "0  72295023174  2019-01-01T00:49:00       FM-16        52     -0.994570\n",
       "1  72295023174  2019-01-01T00:53:00       FM-15        51     -1.170440\n",
       "2  72295023174  2019-01-01T01:53:00       FM-15        52     -0.994570\n",
       "3  72295023174  2019-01-01T02:53:00       FM-15        49     -1.522181\n",
       "4  72295023174  2019-01-01T03:53:00       FM-15        43     -2.577401"
      ]
     },
     "execution_count": 277,
     "metadata": {},
     "output_type": "execute_result"
    }
   ],
   "source": [
    "# Demonstrate calculating the z-scores using SciPy\n",
    "temperature_df['Temp Z-Score'] = st.zscore(temperature_df['Temp (F)'])   # creates a normalize data for temperature\n",
    "temperature_df.head()"
   ]
  },
  {
   "cell_type": "code",
   "execution_count": 278,
   "metadata": {},
   "outputs": [
    {
     "data": {
      "image/png": "[encoded data removed]",
      "text/plain": [
       "<Figure size 432x288 with 1 Axes>"
      ]
     },
     "metadata": {
      "needs_background": "light"
     },
     "output_type": "display_data"
    }
   ],
   "source": [
    "# Example outlier plot of reaction times\n",
    "#times = [96,98,100,105,85,88,95,100,101,102,97,98,5]\n",
    "fig1, ax1 = plt.subplots()\n",
    "ax1.set_title('Temperatures at LAX')\n",
    "ax1.set_ylabel('Temperature (°F)')\n",
    "ax1.boxplot(temperature_df['Temp (F)'])\n",
    "plt.show()"
   ]
  },
  {
   "cell_type": "markdown",
   "metadata": {},
   "source": [
    "### Finding Quartiles"
   ]
  },
  {
   "cell_type": "code",
   "execution_count": 279,
   "metadata": {},
   "outputs": [
    {
     "name": "stdout",
     "output_type": "stream",
     "text": [
      " Lower quartile = 54.0, Upper quartile = 60.0,  IRQ = 6.0, median = 57.0\n",
      "Values below 45.0 could be outliers.\n",
      "Values above 69.0 could be outliers.\n"
     ]
    },
    {
     "data": {
      "text/plain": [
       "0.09572905622798593"
      ]
     },
     "execution_count": 279,
     "metadata": {},
     "output_type": "execute_result"
    }
   ],
   "source": [
    "# If the data is in a dataframe, we use pandas to give quartile calculations\n",
    "quartiles = temperature_df['Temp (F)'].quantile([.25,.5,.75])\n",
    "lowerq = quartiles[0.25]\n",
    "upperq = quartiles[0.75]\n",
    "iqr = upperq-lowerq\n",
    "lower_bound = lowerq - (1.5*iqr)                # outliers are considered anything more than 1.5 IRQ upper or lower quartile\n",
    "upper_bound = upperq + (1.5*iqr)\n",
    "\n",
    "print(f' Lower quartile = {lowerq}, Upper quartile = {upperq},  IRQ = {iqr}, median = {quartiles[0.5]}')\n",
    "print(f\"Values below {lower_bound} could be outliers.\")\n",
    "print(f\"Values above {upper_bound} could be outliers.\")\n",
    "\n",
    "sem(temperature_df['Temp (F)'])  # Standard error of the mean"
   ]
  },
  {
   "cell_type": "markdown",
   "metadata": {},
   "source": [
    "# Standard Error of the mean\n",
    "____________________________________"
   ]
  },
  {
   "cell_type": "code",
   "execution_count": 280,
   "metadata": {},
   "outputs": [
    {
     "data": {
      "text/html": [
       "<div>\n",
       "<style scoped>\n",
       "    .dataframe tbody tr th:only-of-type {\n",
       "        vertical-align: middle;\n",
       "    }\n",
       "\n",
       "    .dataframe tbody tr th {\n",
       "        vertical-align: top;\n",
       "    }\n",
       "\n",
       "    .dataframe thead th {\n",
       "        text-align: right;\n",
       "    }\n",
       "</style>\n",
       "<table border=\"1\" class=\"dataframe\">\n",
       "  <thead>\n",
       "    <tr style=\"text-align: right;\">\n",
       "      <th></th>\n",
       "      <th>Type</th>\n",
       "      <th>Combined_MPG</th>\n",
       "      <th>Make_Model</th>\n",
       "    </tr>\n",
       "  </thead>\n",
       "  <tbody>\n",
       "    <tr>\n",
       "      <th>0</th>\n",
       "      <td>Two Seaters</td>\n",
       "      <td>21.0000</td>\n",
       "      <td>Acura_NSX</td>\n",
       "    </tr>\n",
       "    <tr>\n",
       "      <th>1</th>\n",
       "      <td>Two Seaters</td>\n",
       "      <td>27.9406</td>\n",
       "      <td>ALFA ROMEO_4C</td>\n",
       "    </tr>\n",
       "    <tr>\n",
       "      <th>2</th>\n",
       "      <td>Two Seaters</td>\n",
       "      <td>20.9455</td>\n",
       "      <td>Aston Martin Lagonda Ltd_Vantage V8</td>\n",
       "    </tr>\n",
       "    <tr>\n",
       "      <th>3</th>\n",
       "      <td>Two Seaters</td>\n",
       "      <td>25.9952</td>\n",
       "      <td>Audi_TT Roadster quattro</td>\n",
       "    </tr>\n",
       "    <tr>\n",
       "      <th>4</th>\n",
       "      <td>Two Seaters</td>\n",
       "      <td>27.6300</td>\n",
       "      <td>BMW_Z4 sDrive30i</td>\n",
       "    </tr>\n",
       "  </tbody>\n",
       "</table>\n",
       "</div>"
      ],
      "text/plain": [
       "          Type  Combined_MPG                           Make_Model\n",
       "0  Two Seaters       21.0000                            Acura_NSX\n",
       "1  Two Seaters       27.9406                        ALFA ROMEO_4C\n",
       "2  Two Seaters       20.9455  Aston Martin Lagonda Ltd_Vantage V8\n",
       "3  Two Seaters       25.9952             Audi_TT Roadster quattro\n",
       "4  Two Seaters       27.6300                     BMW_Z4 sDrive30i"
      ]
     },
     "execution_count": 280,
     "metadata": {},
     "output_type": "execute_result"
    }
   ],
   "source": [
    "# Sample versus population example fuel economy\n",
    "fuel_economy = pd.read_csv('./Resources/2019_fuel_economy.csv')\n",
    "fuel_economy.head()"
   ]
  },
  {
   "cell_type": "code",
   "execution_count": 281,
   "metadata": {},
   "outputs": [
    {
     "name": "stdout",
     "output_type": "stream",
     "text": [
      "The mean MPG of all vehicles is: 23.54\n",
      "The standard deviation of all vehicle's MPG is: 5.12\n"
     ]
    },
    {
     "data": {
      "image/png": "[encoded data removed]",
      "text/plain": [
       "<Figure size 432x288 with 1 Axes>"
      ]
     },
     "metadata": {
      "needs_background": "light"
     },
     "output_type": "display_data"
    }
   ],
   "source": [
    "# Calculate the summary statistics and plot the histogram of the sample data using random sampling\n",
    "subset = fuel_economy.sample(90)                        # Take a random sample of the 90 observations\n",
    "print(f\"The mean MPG of all vehicles is: {round(subset['Combined_MPG'].mean(),2)}\")\n",
    "print(f\"The standard deviation of all vehicle's MPG is: {round(subset['Combined_MPG'].std(),2)}\")\n",
    "plt.hist(subset['Combined_MPG'])\n",
    "plt.xlabel(\"Fuel Economy (MPG)\")\n",
    "plt.ylabel(\"Number of Vehicles\")\n",
    "plt.show()"
   ]
  },
  {
   "cell_type": "code",
   "execution_count": 282,
   "metadata": {},
   "outputs": [
    {
     "name": "stdout",
     "output_type": "stream",
     "text": [
      "The SEM value for the sample fuel economy data is 1.4182017352237202\n"
     ]
    }
   ],
   "source": [
    "# Generate a new 30 vehicle sample and calculate the SEM of the sample\n",
    "sample = fuel_economy.sample(30)\n",
    "print(f\"The SEM value for the sample fuel economy data is {sem(sample['Combined_MPG'])}\")"
   ]
  },
  {
   "cell_type": "markdown",
   "metadata": {},
   "source": [
    "# Plot means and SEM for a set of samples"
   ]
  },
  {
   "cell_type": "code",
   "execution_count": 283,
   "metadata": {},
   "outputs": [
    {
     "data": {
      "image/png": "[encoded data removed]",
      "text/plain": [
       "<Figure size 432x288 with 1 Axes>"
      ]
     },
     "metadata": {
      "needs_background": "light"
     },
     "output_type": "display_data"
    }
   ],
   "source": [
    "# Create a sample set of 10, each with 30 vehicles\n",
    "num_veh = 30\n",
    "num_samples = 10\n",
    "vehicle_sample_set = [fuel_economy.sample(num_veh) for x in range(0,num_samples)]   # collect a set of 10 samples of 30 values\n",
    "\n",
    "# Generate the plot data for each sample \n",
    "means = [sample['Combined_MPG'].mean() for sample in vehicle_sample_set]            # for each of the samples in the set of samples calculate a mean\n",
    "standard_errors = [sem(sample['Combined_MPG']) for sample in vehicle_sample_set]    # fore each of the samples in the set calculate the standard error of the mean\n",
    "x_axis = np.arange(0, len(vehicle_sample_set), 1) + 1                               # set the x-axis for the number of samples.  Add 1 so the first sample is not on the y-axis.\n",
    "\n",
    "# Setting up the plot\n",
    "fig, ax = plt.subplots()\n",
    "ax.errorbar(x_axis, means, standard_errors, fmt=\"o\")                                # x-axis = the samples, the mean is the dot, and \n",
    "ax.set_xlim(0, len(vehicle_sample_set) + 1)\n",
    "ax.set_ylim(20,28)                                                                  # set the limits for the y-axis\n",
    "ax.set_xlabel(\"Sample Number\")                                                      # label the x-axis\n",
    "ax.set_ylabel(\"Mean MPG\")                                                           # label the y-axis\n",
    "plt.show()"
   ]
  },
  {
   "cell_type": "code",
   "execution_count": 284,
   "metadata": {},
   "outputs": [
    {
     "data": {
      "text/html": [
       "<div>\n",
       "<style scoped>\n",
       "    .dataframe tbody tr th:only-of-type {\n",
       "        vertical-align: middle;\n",
       "    }\n",
       "\n",
       "    .dataframe tbody tr th {\n",
       "        vertical-align: top;\n",
       "    }\n",
       "\n",
       "    .dataframe thead th {\n",
       "        text-align: right;\n",
       "    }\n",
       "</style>\n",
       "<table border=\"1\" class=\"dataframe\">\n",
       "  <thead>\n",
       "    <tr style=\"text-align: right;\">\n",
       "      <th></th>\n",
       "      <th>Country Name</th>\n",
       "      <th>Adjusted net national income per capita (current US$)</th>\n",
       "      <th>Population (in thousands) total</th>\n",
       "      <th>Population Median Age</th>\n",
       "      <th>Percent Population over 65</th>\n",
       "      <th>Domestic general government health expenditure (% of general government expenditure)</th>\n",
       "      <th>Life expectancy at birth, female (years)</th>\n",
       "      <th>Life expectancy at birth, male (years)</th>\n",
       "      <th>Total alcohol consumption per capita (liters of pure alcohol, projected estimates, 15+ years of age)</th>\n",
       "      <th>People using at least basic drinking water services (% of population)</th>\n",
       "      <th>Mobile cellular subscriptions (per 100 people)</th>\n",
       "      <th>Mobile cellular subscriptions</th>\n",
       "      <th>Immunization, measles (% of children ages 12-23 months)</th>\n",
       "      <th>Military expenditure (% of GDP)</th>\n",
       "    </tr>\n",
       "  </thead>\n",
       "  <tbody>\n",
       "    <tr>\n",
       "      <th>0</th>\n",
       "      <td>Afghanistan</td>\n",
       "      <td>473.319371</td>\n",
       "      <td>37171.922</td>\n",
       "      <td>18.9</td>\n",
       "      <td>2.584927</td>\n",
       "      <td>1.798056</td>\n",
       "      <td>66.026</td>\n",
       "      <td>63.047</td>\n",
       "      <td>0.21</td>\n",
       "      <td>69.601931</td>\n",
       "      <td>59.120848</td>\n",
       "      <td>21976355.0</td>\n",
       "      <td>64.0</td>\n",
       "      <td>1.006746</td>\n",
       "    </tr>\n",
       "    <tr>\n",
       "      <th>1</th>\n",
       "      <td>Albania</td>\n",
       "      <td>4326.330596</td>\n",
       "      <td>2866.376</td>\n",
       "      <td>32.9</td>\n",
       "      <td>13.744742</td>\n",
       "      <td>9.709609</td>\n",
       "      <td>80.167</td>\n",
       "      <td>76.816</td>\n",
       "      <td>7.17</td>\n",
       "      <td>94.436391</td>\n",
       "      <td>94.176998</td>\n",
       "      <td>2714878.0</td>\n",
       "      <td>94.0</td>\n",
       "      <td>1.161266</td>\n",
       "    </tr>\n",
       "    <tr>\n",
       "      <th>2</th>\n",
       "      <td>Algeria</td>\n",
       "      <td>3219.975007</td>\n",
       "      <td>42228.415</td>\n",
       "      <td>28.1</td>\n",
       "      <td>6.362495</td>\n",
       "      <td>10.734436</td>\n",
       "      <td>77.938</td>\n",
       "      <td>75.494</td>\n",
       "      <td>0.95</td>\n",
       "      <td>94.037413</td>\n",
       "      <td>111.664792</td>\n",
       "      <td>47154264.0</td>\n",
       "      <td>80.0</td>\n",
       "      <td>5.467824</td>\n",
       "    </tr>\n",
       "    <tr>\n",
       "      <th>4</th>\n",
       "      <td>Angola</td>\n",
       "      <td>2000.546817</td>\n",
       "      <td>30809.787</td>\n",
       "      <td>15.9</td>\n",
       "      <td>2.216374</td>\n",
       "      <td>5.426737</td>\n",
       "      <td>63.666</td>\n",
       "      <td>58.064</td>\n",
       "      <td>6.94</td>\n",
       "      <td>56.591749</td>\n",
       "      <td>43.130519</td>\n",
       "      <td>13288421.0</td>\n",
       "      <td>50.0</td>\n",
       "      <td>1.871776</td>\n",
       "    </tr>\n",
       "    <tr>\n",
       "      <th>7</th>\n",
       "      <td>Armenia</td>\n",
       "      <td>3685.765957</td>\n",
       "      <td>2951.741</td>\n",
       "      <td>35.1</td>\n",
       "      <td>11.253833</td>\n",
       "      <td>5.269859</td>\n",
       "      <td>78.354</td>\n",
       "      <td>71.215</td>\n",
       "      <td>5.55</td>\n",
       "      <td>99.951924</td>\n",
       "      <td>121.259018</td>\n",
       "      <td>3579257.0</td>\n",
       "      <td>95.0</td>\n",
       "      <td>4.119886</td>\n",
       "    </tr>\n",
       "  </tbody>\n",
       "</table>\n",
       "</div>"
      ],
      "text/plain": [
       "  Country Name  Adjusted net national income per capita (current US$)  \\\n",
       "0  Afghanistan                                         473.319371       \n",
       "1      Albania                                        4326.330596       \n",
       "2      Algeria                                        3219.975007       \n",
       "4       Angola                                        2000.546817       \n",
       "7      Armenia                                        3685.765957       \n",
       "\n",
       "   Population (in thousands) total  Population Median Age  \\\n",
       "0                        37171.922                   18.9   \n",
       "1                         2866.376                   32.9   \n",
       "2                        42228.415                   28.1   \n",
       "4                        30809.787                   15.9   \n",
       "7                         2951.741                   35.1   \n",
       "\n",
       "   Percent Population over 65  \\\n",
       "0                    2.584927   \n",
       "1                   13.744742   \n",
       "2                    6.362495   \n",
       "4                    2.216374   \n",
       "7                   11.253833   \n",
       "\n",
       "   Domestic general government health expenditure (% of general government expenditure)  \\\n",
       "0                                           1.798056                                      \n",
       "1                                           9.709609                                      \n",
       "2                                          10.734436                                      \n",
       "4                                           5.426737                                      \n",
       "7                                           5.269859                                      \n",
       "\n",
       "   Life expectancy at birth, female (years)  \\\n",
       "0                                    66.026   \n",
       "1                                    80.167   \n",
       "2                                    77.938   \n",
       "4                                    63.666   \n",
       "7                                    78.354   \n",
       "\n",
       "   Life expectancy at birth, male (years)  \\\n",
       "0                                  63.047   \n",
       "1                                  76.816   \n",
       "2                                  75.494   \n",
       "4                                  58.064   \n",
       "7                                  71.215   \n",
       "\n",
       "   Total alcohol consumption per capita (liters of pure alcohol, projected estimates, 15+ years of age)  \\\n",
       "0                                               0.21                                                      \n",
       "1                                               7.17                                                      \n",
       "2                                               0.95                                                      \n",
       "4                                               6.94                                                      \n",
       "7                                               5.55                                                      \n",
       "\n",
       "   People using at least basic drinking water services (% of population)  \\\n",
       "0                                          69.601931                       \n",
       "1                                          94.436391                       \n",
       "2                                          94.037413                       \n",
       "4                                          56.591749                       \n",
       "7                                          99.951924                       \n",
       "\n",
       "   Mobile cellular subscriptions (per 100 people)  \\\n",
       "0                                       59.120848   \n",
       "1                                       94.176998   \n",
       "2                                      111.664792   \n",
       "4                                       43.130519   \n",
       "7                                      121.259018   \n",
       "\n",
       "   Mobile cellular subscriptions  \\\n",
       "0                     21976355.0   \n",
       "1                      2714878.0   \n",
       "2                     47154264.0   \n",
       "4                     13288421.0   \n",
       "7                      3579257.0   \n",
       "\n",
       "   Immunization, measles (% of children ages 12-23 months)  \\\n",
       "0                                               64.0         \n",
       "1                                               94.0         \n",
       "2                                               80.0         \n",
       "4                                               50.0         \n",
       "7                                               95.0         \n",
       "\n",
       "   Military expenditure (% of GDP)  \n",
       "0                         1.006746  \n",
       "1                         1.161266  \n",
       "2                         5.467824  \n",
       "4                         1.871776  \n",
       "7                         4.119886  "
      ]
     },
     "execution_count": 284,
     "metadata": {},
     "output_type": "execute_result"
    }
   ],
   "source": [
    "# Import the WDI dataset, drop missing data\n",
    "wdi_data = pd.read_csv('./Resources/WDI_2018.csv')\n",
    "wdi_data = wdi_data.dropna()\n",
    "wdi_data.head()"
   ]
  },
  {
   "cell_type": "code",
   "execution_count": 285,
   "metadata": {},
   "outputs": [
    {
     "data": {
      "image/png": "[encoded data removed]",
      "text/plain": [
       "<Figure size 432x288 with 1 Axes>"
      ]
     },
     "metadata": {
      "needs_background": "light"
     },
     "output_type": "display_data"
    }
   ],
   "source": [
    "# For the first example, determine which pairs of factors are correlated. \n",
    "plt.scatter(wdi_data.iloc[:,1],wdi_data.iloc[:,8])\n",
    "plt.xlabel('Income Per Capita')\n",
    "plt.ylabel('Average Alcohol Consumed Per Person Per Year (L)')\n",
    "plt.show()"
   ]
  },
  {
   "cell_type": "code",
   "execution_count": 286,
   "metadata": {},
   "outputs": [
    {
     "data": {
      "text/plain": [
       "Index(['Country Name', 'Adjusted net national income per capita (current US$)',\n",
       "       'Population (in thousands) total', 'Population Median Age',\n",
       "       'Percent Population over 65',\n",
       "       'Domestic general government health expenditure (% of general government expenditure)',\n",
       "       'Life expectancy at birth, female (years)',\n",
       "       'Life expectancy at birth, male (years)',\n",
       "       'Total alcohol consumption per capita (liters of pure alcohol, projected estimates, 15+ years of age)',\n",
       "       'People using at least basic drinking water services (% of population)',\n",
       "       'Mobile cellular subscriptions (per 100 people)',\n",
       "       'Mobile cellular subscriptions',\n",
       "       'Immunization, measles (% of children ages 12-23 months)',\n",
       "       'Military expenditure (% of GDP)'],\n",
       "      dtype='object')"
      ]
     },
     "execution_count": 286,
     "metadata": {},
     "output_type": "execute_result"
    }
   ],
   "source": [
    "wdi_data.columns"
   ]
  },
  {
   "cell_type": "markdown",
   "metadata": {},
   "source": [
    "# Pearson Correlation"
   ]
  },
  {
   "cell_type": "code",
   "execution_count": 287,
   "metadata": {},
   "outputs": [
    {
     "name": "stdout",
     "output_type": "stream",
     "text": [
      "The pearson correlation is 0.42,  p=value = 1.086239349439516e-06\n"
     ]
    }
   ],
   "source": [
    "# The next example will compute the Pearson correlation coefficient between \"Income per Capita\" and \"Average Alcohol Consumed\"\n",
    "IncomePerCap ='Adjusted net national income per capita (current US$)'\n",
    "AchoholPerCap = 'Total alcohol consumption per capita (liters of pure alcohol, projected estimates, 15+ years of age)'\n",
    "#income = wdi_data.iloc[:,1]\n",
    "income = wdi_data[IncomePerCap]                                 # If you only want a subset of the income range use --> income = wdi_data.loc[wdi_data[IncomePerCap]>=500]\n",
    "alcohol = wdi_data[AchoholPerCap]\n",
    "correlation = st.pearsonr(income,alcohol)\n",
    "print(f\"The pearson correlation is {round(correlation[0],2)},  p=value = {(correlation[1])}\")"
   ]
  },
  {
   "cell_type": "code",
   "execution_count": 288,
   "metadata": {},
   "outputs": [],
   "source": [
    "wdi_corr = wdi_data.corr()\n",
    "wdi_corr.unstack().sort_values()\n",
    "# a=wdi_corr.unstack().sort_values()\n",
    "file_one = os.path.join('.','Output', 'corr.csv')\n",
    "wdi_corr.to_csv(file_one, index=False, header=True)    # You can see the correlation matix in the output folder."
   ]
  },
  {
   "cell_type": "code",
   "execution_count": 289,
   "metadata": {},
   "outputs": [
    {
     "data": {
      "image/png": "[encoded data removed]",
      "text/plain": [
       "<Figure size 432x288 with 1 Axes>"
      ]
     },
     "metadata": {
      "needs_background": "light"
     },
     "output_type": "display_data"
    }
   ],
   "source": [
    "# Plot out rooms versus median house price\n",
    "x_values = wdi_data['Life expectancy at birth, female (years)']\n",
    "y_values = wdi_data['Life expectancy at birth, male (years)']\n",
    "plt.scatter(x_values,y_values)\n",
    "plt.xlabel('Female Life expectancy')\n",
    "plt.ylabel('Male Life expectancy')\n",
    "plt.show()"
   ]
  },
  {
   "cell_type": "code",
   "execution_count": 290,
   "metadata": {},
   "outputs": [
    {
     "data": {
      "image/png": "[encoded data removed]",
      "text/plain": [
       "<Figure size 432x288 with 1 Axes>"
      ]
     },
     "metadata": {
      "needs_background": "light"
     },
     "output_type": "display_data"
    },
    {
     "name": "stdout",
     "output_type": "stream",
     "text": [
      "Correlation = (0.9694659832582392, 2.50144899209352e-76)\n"
     ]
    }
   ],
   "source": [
    "# Add the linear regression equation and line to plot\n",
    "plt.scatter(x_values,y_values)\n",
    "(slope, intercept, rvalue, pvalue, stderr) = linregress(x_values, y_values)         # Calculate the regression values slop, intercept r-value \n",
    "regress_values = x_values * slope + intercept                                       # Calculate y values for each x value\n",
    "plt.plot(x_values,regress_values,\"r-\")                                              # plot the regression line in red (r-)\n",
    "\n",
    "# Embellish the plot\n",
    "line_eq = \"y = \" + str(round(slope,2)) + \"x + \" + str(round(intercept,2))           # Write the equation of line to a string\n",
    "plt.annotate(line_eq,(70,55),fontsize=15,color=\"red\")                               # Add the equation of the line to the figure, starting at location (70, 55)\n",
    "plt.xlabel('Female Life expectancy')                                                # Add the x label\n",
    "plt.ylabel('Male Life expectancy')                                                  # Add the y label\n",
    "#plt.Figure(figsize=(50,50))\n",
    "plt.savefig('./Output/myRegression', dpi=600)                                       # This changes the size and resolution of the same\n",
    "plt.show()                                                                          # Show the plot\n",
    "correlation = st.pearsonr(wdi_data['Life expectancy at birth, female (years)'], wdi_data['Life expectancy at birth, male (years)'])\n",
    "print(f'Correlation = {correlation}')"
   ]
  },
  {
   "cell_type": "code",
   "execution_count": null,
   "metadata": {},
   "outputs": [],
   "source": []
  }
 ],
 "metadata": {
  "kernelspec": {
   "display_name": "Python 3.9.12 ('base')",
   "language": "python",
   "name": "python3"
  },
  "language_info": {
   "codemirror_mode": {
    "name": "ipython",
    "version": 3
   },
   "file_extension": ".py",
   "mimetype": "text/x-python",
   "name": "python",
   "nbconvert_exporter": "python",
   "pygments_lexer": "ipython3",
   "version": "3.9.12"
  },
  "orig_nbformat": 4,
  "vscode": {
   "interpreter": {
    "hash": "e7f336f9bec1e74624fa1ea8a759f275624ff514e02e1aa8e3e0a6d78d32a22a"
   }
  }
 },
 "nbformat": 4,
 "nbformat_minor": 2
}
