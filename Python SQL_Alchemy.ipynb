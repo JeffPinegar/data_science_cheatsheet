{
 "cells": [
  {
   "cell_type": "markdown",
   "metadata": {},
   "source": [
    "# Basic Read a SQL Lite database and print the records"
   ]
  },
  {
   "cell_type": "code",
   "execution_count": 1,
   "metadata": {},
   "outputs": [],
   "source": [
    "# SQLAlchemy\n",
    "from sqlalchemy import create_engine\n",
    "\n",
    "# Imports the methods needed to abstract classes into tables\n",
    "from sqlalchemy.ext.declarative import declarative_base\n",
    "\n",
    "# Allow us to declare column types\n",
    "from sqlalchemy import Column, Integer, String, Float \n",
    "\n",
    "# Create a Session Object to Connect to DB\n",
    "# Session is a temporary binding to our DB\n",
    "from sqlalchemy.orm import Session\n",
    "\n",
    "import os\n",
    "#database_path = os.path.join('.','Resources', 'Census_Data.sqlite')\n",
    "database_path = os.path.join('.','Resources', 'icecreamstore.sqlite')\n",
    "\n",
    "\n",
    "\n",
    "# Create an engine that can talk to the database\n",
    "engine = create_engine(f\"sqlite:///{database_path}\")\n",
    "session = Session(bind=engine)"
   ]
  },
  {
   "cell_type": "code",
   "execution_count": 2,
   "metadata": {},
   "outputs": [
    {
     "name": "stdout",
     "output_type": "stream",
     "text": [
      "schema: main\n",
      "icecreamstore\n",
      "Column: {'name': 'ID', 'type': INTEGER(), 'nullable': True, 'default': None, 'autoincrement': 'auto', 'primary_key': 0}\n",
      "Column: {'name': 'Flavors', 'type': TEXT(), 'nullable': True, 'default': None, 'autoincrement': 'auto', 'primary_key': 0}\n",
      "Column: {'name': 'Quantities', 'type': INTEGER(), 'nullable': True, 'default': None, 'autoincrement': 'auto', 'primary_key': 0}\n",
      "Column: {'name': 'Price', 'type': FLOAT(), 'nullable': True, 'default': None, 'autoincrement': 'auto', 'primary_key': 0}\n"
     ]
    }
   ],
   "source": [
    "# this command will identify the schema in your database\n",
    "from sqlalchemy import inspect\n",
    "inspector = inspect(engine)\n",
    "schemas = inspector.get_schema_names()\n",
    "\n",
    "# Find the schema of the database\n",
    "for schema in schemas:\n",
    "    print(\"schema: %s\" % schema)\n",
    "    for table_name in inspector.get_table_names(schema=schema):\n",
    "        print(table_name)\n",
    "        for column in inspector.get_columns(table_name, schema=schema):\n",
    "            print(\"Column: %s\" % column)"
   ]
  },
  {
   "cell_type": "code",
   "execution_count": 3,
   "metadata": {},
   "outputs": [
    {
     "name": "stdout",
     "output_type": "stream",
     "text": [
      "(1, 'Vanilla', 150, 2.0)\n",
      "(2, 'Chocolate', 125, 2.0)\n",
      "(3, 'Bubblegum', 95, 2.5)\n",
      "(4, 'Mint Chocolate Chip', 100, 2.5)\n",
      "(5, 'Strawberry', 75, 2.0)\n",
      "(6, 'Cookies and Cream', 100, 2.5)\n",
      "(25, 'testflavor', 5, 0.5)\n",
      "\n",
      " ------- Filtered Results --------\n",
      "(3, 'Bubblegum', 95, 2.5)\n",
      "(4, 'Mint Chocolate Chip', 100, 2.5)\n",
      "(6, 'Cookies and Cream', 100, 2.5)\n"
     ]
    }
   ],
   "source": [
    "# Query All Records in the the Database\n",
    "query_str = 'SELECT * FROM icecreamstore'\n",
    "data = engine.execute(query_str)\n",
    "\n",
    "# Print each record in the database\n",
    "for record in data:\n",
    "    print(record)\n",
    "\n",
    "print(f'\\n ------- Filtered Results --------')\n",
    "# Query Using a Filter\n",
    "data = engine.execute(\"SELECT * FROM icecreamstore WHERE Price > 2.0;\")\n",
    "for record in data:\n",
    "    print(record)"
   ]
  },
  {
   "cell_type": "code",
   "execution_count": null,
   "metadata": {},
   "outputs": [],
   "source": []
  }
 ],
 "metadata": {
  "anaconda-cloud": null,
  "kernelspec": {
   "display_name": "Python 3.9.12 ('base')",
   "language": "python",
   "name": "python3"
  },
  "language_info": {
   "codemirror_mode": {
    "name": "ipython",
    "version": 3
   },
   "file_extension": ".py",
   "mimetype": "text/x-python",
   "name": "python",
   "nbconvert_exporter": "python",
   "pygments_lexer": "ipython3",
   "version": "3.9.12"
  },
  "name": "IceCreamConnector.ipynb",
  "varInspector": {
   "cols": {
    "lenName": 16,
    "lenType": 16,
    "lenVar": 40
   },
   "kernels_config": {
    "python": {
     "delete_cmd_postfix": "",
     "delete_cmd_prefix": "del ",
     "library": "var_list.py",
     "varRefreshCmd": "print(var_dic_list())"
    },
    "r": {
     "delete_cmd_postfix": ") ",
     "delete_cmd_prefix": "rm(",
     "library": "var_list.r",
     "varRefreshCmd": "cat(var_dic_list()) "
    }
   },
   "types_to_exclude": [
    "module",
    "function",
    "builtin_function_or_method",
    "instance",
    "_Feature"
   ],
   "window_display": false
  },
  "vscode": {
   "interpreter": {
    "hash": "e7f336f9bec1e74624fa1ea8a759f275624ff514e02e1aa8e3e0a6d78d32a22a"
   }
  }
 },
 "nbformat": 4,
 "nbformat_minor": 1
}
